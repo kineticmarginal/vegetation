{
  "nbformat": 4,
  "nbformat_minor": 0,
  "metadata": {
    "colab": {
      "name": "comp (3).ipynb",
      "provenance": [],
      "collapsed_sections": []
    },
    "kernelspec": {
      "name": "python3",
      "display_name": "Yandex DataSphere Kernel",
      "language": "python"
    },
    "language_info": {
      "version": "3.7.7",
      "file_extension": ".py",
      "pygments_lexer": "ipython3",
      "nbconvert_exporter": "python",
      "name": "python",
      "codemirror_mode": {
        "version": 3,
        "name": "ipython"
      },
      "mimetype": "text/x-python"
    },
    "notebookId": "f940259a-a0eb-4660-90ea-eb7c7862ce2a"
  },
  "cells": [
    {
      "cell_type": "markdown",
      "metadata": {
        "id": "weC-A3TskGLn"
      },
      "source": [
        "**Решение создано в Yandex DataSphere**"
      ]
    },
    {
      "cell_type": "markdown",
      "metadata": {
        "id": "y2hyRlvIkB3K"
      },
      "source": [
        "# Загрузка необходимых библиотек"
      ]
    },
    {
      "cell_type": "code",
      "metadata": {
        "id": "uEL-o20i9Ge0",
        "cellId": "7mx6vhv23wrljc853fcpwd",
        "trusted": true
      },
      "source": [
        "#!L\n",
        "import numpy as np\n",
        "import pandas as pd\n",
        "import matplotlib.pyplot as plt\n",
        "%matplotlib inline\n",
        "import seaborn as sns\n",
        "from tqdm.notebook import tqdm\n",
        " \n",
        "from sklearn import metrics\n",
        "from sklearn.model_selection import train_test_split\n",
        "from sklearn.model_selection import StratifiedKFold, KFold\n",
        "import catboost as cat\n",
        "import xgboost as xgb\n",
        "from scipy.signal import savgol_filter\n",
        "\n",
        "import warnings\n",
        "warnings.filterwarnings(\"ignore\", category=FutureWarning) "
      ],
      "execution_count": null,
      "outputs": []
    },
    {
      "cell_type": "code",
      "metadata": {
        "id": "rV2xX9_t9Ght",
        "cellId": "djw5j1soiylzm0p6142gso",
        "trusted": true
      },
      "source": [
        "#!L\n",
        "data_dir = './'"
      ],
      "execution_count": null,
      "outputs": []
    },
    {
      "cell_type": "markdown",
      "metadata": {
        "id": "mmu3LPovdN-g",
        "cellId": "0pgycmhn5uxgn4ldapx8gk"
      },
      "source": [
        "Страницы 22-30 из скачанного файла (Семинар 4.pdf)"
      ]
    },
    {
      "cell_type": "markdown",
      "metadata": {
        "id": "IZkn5Swt99FC",
        "cellId": "3gev7bdgq14q2w90jit32p"
      },
      "source": [
        "# Загрузка данных"
      ]
    },
    {
      "cell_type": "code",
      "metadata": {
        "id": "eWcRh4-69g_A",
        "cellId": "rtqqjxvb2tl7m1z9303ozm",
        "trusted": true
      },
      "source": [
        "#!L\n",
        "train = pd.read_csv(data_dir + '/train.csv')\n",
        "test = pd.read_csv(data_dir + '/test.csv')"
      ],
      "execution_count": null,
      "outputs": []
    },
    {
      "cell_type": "markdown",
      "metadata": {
        "id": "BdNl33k0-USK",
        "cellId": "mcx7gog38cf03lv05plzubx"
      },
      "source": [
        "# Переименование столбцов"
      ]
    },
    {
      "cell_type": "code",
      "metadata": {
        "id": "xWyU3yt6IFhe",
        "cellId": "ihkpigw9r8g9m1e6bjjvs",
        "trusted": true
      },
      "source": [
        "#!L\n",
        "columns_train = ['year', 'fieldId', 'fieldArea']\n",
        "\n",
        "for i in range(3, len(train.columns) - 1):\n",
        "    columns_train.append(i - 2)\n",
        "\n",
        "columns_train.append('culture')\n",
        "\n",
        "train.columns = columns_train\n",
        "test.columns = columns_train[:-1]\n",
        "classes = train['culture'].unique()"
      ],
      "execution_count": null,
      "outputs": []
    },
    {
      "cell_type": "markdown",
      "metadata": {
        "cellId": "se71w3iowsrt3uo0j0ev",
        "id": "qOF1QkCwj_IF"
      },
      "source": [
        "# График вегетации"
      ]
    },
    {
      "cell_type": "code",
      "metadata": {
        "cellId": "chm62yk2nwnqrg4xdis5i",
        "trusted": true,
        "id": "QGTnB383j_IF"
      },
      "source": [
        "#!L\n",
        "def plot_vegetation(row, i):\n",
        "    fig, ax = plt.subplots(figsize=(15, 5))\n",
        "    row = np.array(row)\n",
        "    ax.plot([x for x in range(len(row))],\n",
        "            row,\n",
        "            color='red')\n",
        "    ax.plot([x for x in range(len(row))],\n",
        "            [0 for _ in range(len(row))],\n",
        "            color='#632D08')\n",
        "    ax.plot([x for x in range(0, 2)],\n",
        "            color='#632D08')\n",
        "    ax.grid()\n",
        "    ax.set(xlabel=\"Day\",\n",
        "           ylabel=\"Veg\",\n",
        "           title='Vegetation {}'.format(i))\n",
        "\n",
        "    plt.show()"
      ],
      "execution_count": null,
      "outputs": []
    },
    {
      "cell_type": "code",
      "metadata": {
        "cellId": "rt07mjj50bjywqoptr1cua",
        "trusted": true,
        "id": "py4gkYADj_IG",
        "outputId": "ec97c9f5-fe6c-4b6b-b12c-bed933e9b021"
      },
      "source": [
        "#!L\n",
        "for e in range(3, 4):\n",
        "    plot_vegetation(train[train.columns[45:279]].iloc[e], e)"
      ],
      "execution_count": null,
      "outputs": [
        {
          "output_type": "display_data",
          "data": {
            "text/plain": [
              "<Figure size 1080x360 with 1 Axes>"
            ],
            "image/png": "[encoded data removed]"
          },
          "metadata": {
            "tags": [],
            "needs_background": "light"
          }
        }
      ]
    },
    {
      "cell_type": "markdown",
      "metadata": {
        "cellId": "jfjshtu5so7mkdbmmx86a",
        "id": "2Dl340mJj_IH"
      },
      "source": [
        "# Функции создания датафрейма"
      ]
    },
    {
      "cell_type": "markdown",
      "metadata": {
        "id": "t6zpFX1QkW-H"
      },
      "source": [
        "В качестве фичей были выбраны значения по дням с различным периодом, значений скоростей изменения индекс с различным периодом. Также добавлены значения квантилей, среднее, сумма, а также количество дней выше некоторых квантилей."
      ]
    },
    {
      "cell_type": "code",
      "metadata": {
        "cellId": "oep04a0dnnbl7txu2va7gl",
        "trusted": true,
        "id": "FDdeHJ8Dj_IH"
      },
      "source": [
        "#!L\n",
        "def speeds_dataframe(days, every_speed=True, period_speed=False, period=7):\n",
        "\n",
        "    result = pd.DataFrame()\n",
        "\n",
        "    def speeds_every_day(df):\n",
        "        df.columns = [x for x in range(df.shape[1])]\n",
        "        speeds = pd.DataFrame()\n",
        "        for i in range(df.shape[1]-1):\n",
        "            speeds['{}_speed'.format(i)] = df[i+1] - df[i]\n",
        "        return speeds\n",
        "\n",
        "    def speeds_mean_periods(df, period):\n",
        "        df.columns = [x for x in range(df.shape[1])]\n",
        "        speeds = pd.DataFrame()\n",
        "        for i in range(0, df.shape[1]+1-period, period):\n",
        "            speeds['{}_speed_period'.format(i)] = df[i+period-1] - df[i]\n",
        "        return speeds\n",
        "\n",
        "    result_every_speed = speeds_every_day(days)\n",
        "    if every_speed:\n",
        "        result = pd.concat([result, result_every_speed], axis=1)\n",
        "\n",
        "    if period_speed:\n",
        "        result_period_speed = speeds_mean_periods(days, period)\n",
        "        result = pd.concat([result, result_period_speed], axis=1)\n",
        "\n",
        "\n",
        "    result['speed_mean'] = result_every_speed.apply('mean', axis=1)\n",
        "    result['speed_sum'] = result_every_speed.apply('sum', axis=1)\n",
        "\n",
        "    for i in range(0, 101, 10):\n",
        "        def quantile(row):\n",
        "            return row.quantile(i/100)\n",
        "        result['speed_quant_{}'.format(i)] = result_every_speed.apply(quantile, axis=1)\n",
        "\n",
        "    for i in range(0, 81, 10):\n",
        "        def speed_count(row):\n",
        "            t_value = row.quantile(i/100)\n",
        "            sc = 0\n",
        "            for elem in row:\n",
        "                if elem >= t_value:\n",
        "                    sc += 1\n",
        "            return sc\n",
        "        def speed_sum(row):\n",
        "            t_value = row.quantile(i/100)\n",
        "            ss = 0\n",
        "            for elem in row:\n",
        "                if elem >= t_value:\n",
        "                    ss += elem\n",
        "            return ss\n",
        "        result['{}_speed_count'.format(i)] = result_every_speed.apply(speed_count, axis=1)\n",
        "        result['{}_speed_sum'.format(i)] = result_every_speed.apply(speed_sum, axis=1)\n",
        "\n",
        "    return result"
      ],
      "execution_count": null,
      "outputs": []
    },
    {
      "cell_type": "code",
      "metadata": {
        "cellId": "ga3bd43gpk5cbme6zzmk1k",
        "trusted": true,
        "id": "NPnda3v_j_II"
      },
      "source": [
        "#!L\n",
        "def days_dataframe(days, every_day=True, period_day=False, period=7):\n",
        "    \n",
        "    result = pd.DataFrame()\n",
        "    \n",
        "    def day_every(df):\n",
        "        df.columns = ['{}_day'.format(x) for x in range(df.shape[1])]\n",
        "        return df\n",
        "    \n",
        "    def day_periods(df, period):\n",
        "        df.columns = [x for x in range(df.shape[1])]\n",
        "        periods = pd.DataFrame()\n",
        "        for i in range(0, df.shape[1], period):\n",
        "            periods['{}_day_period'.format(i)] = df[i]\n",
        "        return periods\n",
        "    \n",
        "    if every_day:\n",
        "        result = pd.concat([result, day_every(days)], axis=1)\n",
        "\n",
        "    if period_day:\n",
        "        result_period_day = day_periods(days, period)\n",
        "        result = pd.concat([result, result_period_day], axis=1)\n",
        "\n",
        "\n",
        "    result['day_mean'] = days.apply('mean', axis=1)\n",
        "    result['day_sum'] = days.apply('sum', axis=1)\n",
        "\n",
        "    for i in range(0, 101, 10):\n",
        "        def quantile(row):\n",
        "            return row.quantile(i/100)\n",
        "        result['day_quant_{}'.format(i)] = days.apply(quantile, axis=1)\n",
        "\n",
        "    for i in range(0, 81, 10):\n",
        "        def day_count(row):\n",
        "            t_value = row.quantile(i/100)\n",
        "            sc = 0\n",
        "            for elem in row:\n",
        "                if elem >= t_value:\n",
        "                    sc += 1\n",
        "            return sc\n",
        "        def day_sum(row):\n",
        "            t_value = row.quantile(i/100)\n",
        "            ss = 0\n",
        "            for elem in row:\n",
        "                if elem >= t_value:\n",
        "                    ss += elem\n",
        "            return ss\n",
        "        result['{}_day_count'.format(i)] = days.apply(day_count, axis=1)\n",
        "        result['{}_day_sum'.format(i)] = days.apply(day_sum, axis=1)\n",
        "\n",
        "    return result"
      ],
      "execution_count": null,
      "outputs": []
    },
    {
      "cell_type": "code",
      "metadata": {
        "cellId": "kbpaahsa1kl4a0l0azcyd",
        "trusted": true,
        "id": "fiYA8PSsj_IJ"
      },
      "source": [
        "#!L\n",
        "def make_dataframe(data, every_speed=False, period_speed=True, period_s=7, every_day=True, period_day=False, period_d=7):\n",
        "    \n",
        "    days = data[data.columns[45:279]]    \n",
        "    result = pd.DataFrame()\n",
        "    result = pd.concat([result, speeds_dataframe(days, every_speed, period_speed, period_s)], axis=1)\n",
        "    result = pd.concat([result, days_dataframe(days, every_day, period_day, period_d)], axis=1)\n",
        "    result = pd.concat([result, data['fieldArea']], axis=1)\n",
        "    \n",
        "    return result"
      ],
      "execution_count": null,
      "outputs": []
    },
    {
      "cell_type": "markdown",
      "metadata": {
        "cellId": "ghpkym1zffc3se9js40avf",
        "id": "oTyq7fEYj_IJ"
      },
      "source": [
        "# Сэмплирование"
      ]
    },
    {
      "cell_type": "markdown",
      "metadata": {
        "id": "xfFcLj7yk2Vn"
      },
      "source": [
        "Реализована функция случайного сэмплирования с обязательным добавлением редких культур в трейн. Такое сэмплирование избавляет от недостатков kfold и позволяет проводить кросс-валидацию."
      ]
    },
    {
      "cell_type": "code",
      "metadata": {
        "cellId": "eqy13q77qd94cp7a56l4f",
        "trusted": true,
        "id": "6hOq_Xuzj_IK"
      },
      "source": [
        "#!L\n",
        "def get_sample(X, y, rand_seed, size):\n",
        "    sample_dict = round(size * train.groupby('culture').year.count().sort_values()).astype(int).to_dict()\n",
        "    X_sample = pd.DataFrame()\n",
        "    y_sample = pd.Series(dtype=int)\n",
        "    for key in sample_dict:\n",
        "        X_sample = pd.concat([X_sample, \n",
        "                              X[y == key].sample(sample_dict[key], random_state=rand_seed)])\n",
        "        y_sample = pd.concat([y_sample, \n",
        "                              y[X[y == key].sample(sample_dict[key], random_state=rand_seed).index]])\n",
        "    X_val = X[~X.index.isin(X_sample.index)]\n",
        "    y_val = y[~y.index.isin(y_sample.index)]\n",
        "    return X_sample, y_sample, X_val, y_val"
      ],
      "execution_count": null,
      "outputs": []
    },
    {
      "cell_type": "markdown",
      "metadata": {
        "cellId": "p8d7wo42pc94hiav6dd8ug",
        "id": "yDa0tS2Jj_IK"
      },
      "source": [
        "# Функции для предикта"
      ]
    },
    {
      "cell_type": "code",
      "metadata": {
        "cellId": "hcsrnl8fhgtuyncnojr9qm",
        "trusted": true,
        "id": "j-4JtxMuj_IK"
      },
      "source": [
        "#!L\n",
        "def encode_predict_proba(pp):\n",
        "    res = []\n",
        "    for i in range(pp.shape[0]):\n",
        "        res.append(classes[np.where(pp[i] == pp[i].max())[0][0]])\n",
        "    return res"
      ],
      "execution_count": null,
      "outputs": []
    },
    {
      "cell_type": "code",
      "metadata": {
        "cellId": "gfmnrlvmg9r4hopond78y9",
        "trusted": true,
        "id": "530wdJEuj_IL"
      },
      "source": [
        "#!L\n",
        "def dist_res(pred):\n",
        "    temp = pd.DataFrame(pred, columns=['pred']).reset_index()\n",
        "    temp = pd.DataFrame(temp.groupby('pred').index.count().sort_values(ascending=False)).reset_index()\n",
        "    temp = temp.rename(columns={'index': 'culture'})\n",
        "    plt.rcParams[\"figure.figsize\"] = (15,5)\n",
        "    ax = temp.plot('pred', 'culture', kind='bar', color='c', fontsize=14)\n",
        "    ax.set_title(\"Distribution of crops\", fontsize = 14)\n",
        "\n",
        "    rects = ax.patches\n",
        "\n",
        "    labels = temp['culture']\n",
        "\n",
        "    for rect, label in zip(rects, labels):\n",
        "        height = rect.get_height()\n",
        "        ax.text(rect.get_x() + rect.get_width()/2, height + 0.35, label, ha='center', va='bottom')\n",
        "\n",
        "    plt.show()"
      ],
      "execution_count": null,
      "outputs": []
    },
    {
      "cell_type": "markdown",
      "metadata": {
        "cellId": "0x6adlwhdukeuilvm6zjqe",
        "id": "kbnqjAXoj_IL"
      },
      "source": [
        "# Выбор эффективных датафреймов"
      ]
    },
    {
      "cell_type": "code",
      "metadata": {
        "cellId": "to07qtri5siefcsm4kddc",
        "trusted": true,
        "id": "OvyDvdAlj_IL"
      },
      "source": [
        "#!L\n",
        "def check_data(X, y, test, size=0.85):\n",
        "    \n",
        "    score = 0\n",
        "    predicts = np.zeros((test.shape[0], len(classes)))\n",
        "    k = 0\n",
        "    for rs in range(17, 27):\n",
        "        X_train, y_train, X_test, y_test = get_sample(X, y, rs, size)\n",
        "        model = cat.CatBoostClassifier(\n",
        "                        random_seed=rs,\n",
        "                        early_stopping_rounds=500,\n",
        "                        l2_leaf_reg=0.1,\n",
        "                        class_names=classes,\n",
        "                        auto_class_weights='Balanced',\n",
        "                        bagging_temperature=1,\n",
        "                        eval_metric='TotalF1',\n",
        "                        loss_function='MultiClassOneVsAll',\n",
        "                        task_type='GPU',\n",
        "                        devices='0:1',\n",
        "                        verbose=False\n",
        "                        )\n",
        "        model.fit(X_train, y_train, eval_set=(X_test, y_test))\n",
        "        score_temp = metrics.f1_score(y_test, model.predict(X_test), average='weighted')\n",
        "        if score_temp > 0.91:\n",
        "            k += 1\n",
        "            score += score_temp\n",
        "            predicts += model.predict_proba(test)\n",
        "    if k > 0:\n",
        "        print(score / k)\n",
        "        dist_res(encode_predict_proba(predicts))\n",
        "        return predicts\n",
        "    else:\n",
        "        print(0)\n",
        "        return 0"
      ],
      "execution_count": null,
      "outputs": []
    },
    {
      "cell_type": "code",
      "metadata": {
        "cellId": "khx8smjb6nbqw7hsih05ni",
        "trusted": true,
        "id": "zF77-U4dj_IM"
      },
      "source": [
        "#!L\n",
        "data_params = [\n",
        "    [True, False, 7, False, True, 3],\n",
        "    [True, False, 7, False, True, 7],\n",
        "    [False, True, 3, True, False, 3],\n",
        "    [False, True, 7, True, False, 3]\n",
        "]"
      ],
      "execution_count": null,
      "outputs": []
    },
    {
      "cell_type": "code",
      "metadata": {
        "scrolled": true,
        "jupyter": {
          "outputs_hidden": true
        },
        "cellId": "6k9854v7f3fojgi84sowr",
        "trusted": true,
        "id": "DSYwjY2rj_IM"
      },
      "source": [
        "#!L\n",
        "i = 1\n",
        "preds = np.zeros((test.shape[0], len(classes)))\n",
        "for dp in data_params:\n",
        "    X = make_dataframe(train, dp[0], dp[1], dp[2], dp[3], dp[4], dp[5])\n",
        "    y = train['culture']\n",
        "    test_x = make_dataframe(test, dp[0], dp[1], dp[2], dp[3], dp[4], dp[5])\n",
        "    print('{}/{}: data ready...'.format(i, len(data_params)), dp)\n",
        "    i += 1\n",
        "    preds += check_data(X, y, test_x)"
      ],
      "execution_count": null,
      "outputs": []
    },
    {
      "cell_type": "markdown",
      "metadata": {
        "cellId": "nuy7tn2yxaj27u0g33endj",
        "id": "w0SEYkzqj_IM"
      },
      "source": [
        "# Получение предикта"
      ]
    },
    {
      "cell_type": "code",
      "metadata": {
        "cellId": "ojq96gaucp3nzo2wzxars",
        "trusted": true,
        "id": "CktJWVrMj_IN"
      },
      "source": [
        "#!L\n",
        "def get_pred(X, y, test, params, size=0.9):\n",
        "    \n",
        "    score = 0\n",
        "    predicts = np.zeros((test.shape[0], len(classes)))\n",
        "    k = 0\n",
        "    j = 0\n",
        "    print('30 times:', end=' ')\n",
        "    for rs in range(17, 47):\n",
        "        print(j, end='...')\n",
        "        j += 1\n",
        "        params['random_seed'] = rs\n",
        "        X_train, y_train, X_test, y_test = get_sample(X, y, rs, size)\n",
        "        model = cat.CatBoostClassifier(**params)\n",
        "        model.fit(X_train, y_train, eval_set=(X_test, y_test))\n",
        "        score_temp = metrics.f1_score(y_test, model.predict(X_test), average='weighted')\n",
        "        if score_temp > 0.9:\n",
        "            print('find', end='...')\n",
        "            k += 1\n",
        "            score += score_temp\n",
        "            predicts += score_temp * model.predict_proba(test)\n",
        "    print()\n",
        "    if k > 0:\n",
        "        print(score / k)\n",
        "        dist_res(encode_predict_proba(predicts))\n",
        "        return predicts\n",
        "    else:\n",
        "        print(0)\n",
        "        return 0"
      ],
      "execution_count": null,
      "outputs": []
    },
    {
      "cell_type": "code",
      "metadata": {
        "cellId": "5tgzpcxfmrvwxa89wn85o",
        "trusted": true,
        "id": "d30agpd7j_IN"
      },
      "source": [
        "#!L\n",
        "params = {\n",
        "    'iterations': 2000,\n",
        "    'depth': 6,\n",
        "    'early_stopping_rounds': 500,\n",
        "    'l2_leaf_reg': 5,\n",
        "    'bagging_temperature': 1,\n",
        "    'random_seed': 17,\n",
        "    'class_names': classes,\n",
        "    'auto_class_weights': 'Balanced',\n",
        "    'eval_metric': 'TotalF1',\n",
        "    'loss_function': 'MultiClassOneVsAll',\n",
        "    'task_type': 'GPU',\n",
        "    'devices': '0:1',\n",
        "    'verbose': False\n",
        "}"
      ],
      "execution_count": null,
      "outputs": []
    },
    {
      "cell_type": "code",
      "metadata": {
        "cellId": "4mhvwf0dgzvowglbqsi0k",
        "trusted": true,
        "id": "q_5F7uo4j_IN"
      },
      "source": [
        "#!L\n",
        "data_params = [\n",
        "    [True, False, 7, False, True, 2],\n",
        "    [True, False, 2, False, True, 4],\n",
        "]"
      ],
      "execution_count": null,
      "outputs": []
    },
    {
      "cell_type": "code",
      "metadata": {
        "cellId": "wlclx93mhln3a6eg7tfks",
        "trusted": true,
        "id": "Bslm5s7Fj_IO",
        "outputId": "8bea2449-a95b-4d4a-c83d-7566ab03e767"
      },
      "source": [
        "#!L\n",
        "i = 1\n",
        "preds = []\n",
        "for dp in data_params:\n",
        "    X = make_dataframe(train, dp[0], dp[1], dp[2], dp[3], dp[4], dp[5])\n",
        "    y = train['culture']\n",
        "    test_x = make_dataframe(test, dp[0], dp[1], dp[2], dp[3], dp[4], dp[5])\n",
        "    print('{}/{}: data ready...'.format(i, len(data_params)), dp)\n",
        "    i += 1\n",
        "    preds.append(get_pred(X, y, test_x, params))"
      ],
      "execution_count": null,
      "outputs": [
        {
          "output_type": "stream",
          "text": [
            "1/2: data ready... [True, False, 7, False, True, 2]\n",
            "30 times: 0...1...2...3...4...find...5...find...6...7...find...8...9...find...10...11...12...13...14...15...16...17...18...19...20...21...22...23...find...24...25...find...26...27...28...find...29...\n",
            "0.914748884628297\n"
          ],
          "name": "stdout"
        },
        {
          "output_type": "display_data",
          "data": {
            "text/plain": [
              "<Figure size 1080x360 with 1 Axes>"
            ],
            "image/png": "[encoded data removed]"
          },
          "metadata": {
            "tags": [],
            "needs_background": "light"
          }
        },
        {
          "output_type": "stream",
          "text": [
            "2/2: data ready... [True, False, 2, False, True, 4]\n",
            "30 times: 0...1...find...2...3...4...5...6...7...8...9...10...11...12...13...14...15...16...17...18...find...19...20...21...22...23...find...24...25...find...26...27...28...find...29...\n",
            "0.9064906004031851\n"
          ],
          "name": "stdout"
        },
        {
          "output_type": "display_data",
          "data": {
            "text/plain": [
              "<Figure size 1080x360 with 1 Axes>"
            ],
            "image/png": "[encoded data removed]"
          },
          "metadata": {
            "tags": [],
            "needs_background": "light"
          }
        }
      ]
    },
    {
      "cell_type": "markdown",
      "metadata": {
        "id": "8GTQT4j2lQTN"
      },
      "source": [
        "**Финальное распределение таргета**"
      ]
    },
    {
      "cell_type": "code",
      "metadata": {
        "cellId": "fhuqyp5n67fgy1uuxnnwo",
        "trusted": true,
        "id": "gNd8ePetj_IO",
        "outputId": "fd46d483-36c9-43ba-a44e-afb2a5dace21"
      },
      "source": [
        "#!L\n",
        "dist_res(encode_predict_proba(preds[0] + preds[1]))"
      ],
      "execution_count": null,
      "outputs": [
        {
          "output_type": "display_data",
          "data": {
            "text/plain": [
              "<Figure size 1080x360 with 1 Axes>"
            ],
            "image/png": "[encoded data removed]"
          },
          "metadata": {
            "tags": [],
            "needs_background": "light"
          }
        }
      ]
    },
    {
      "cell_type": "code",
      "metadata": {
        "cellId": "vklvohqlrdbz1unhnu478j",
        "trusted": true,
        "id": "sv6hdY3Fj_IO"
      },
      "source": [
        "#!L\n",
        "pd.DataFrame(encode_predict_proba(preds[0] + preds[1]), index=[x for x in range(1, 940)], columns=['Culture']).to_csv('result.csv', index=False)"
      ],
      "execution_count": null,
      "outputs": []
    }
  ]
}